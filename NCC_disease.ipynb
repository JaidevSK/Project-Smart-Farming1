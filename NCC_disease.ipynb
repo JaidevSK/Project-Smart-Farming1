{
  "nbformat": 4,
  "nbformat_minor": 0,
  "metadata": {
    "colab": {
      "provenance": []
    },
    "kernelspec": {
      "name": "python3",
      "display_name": "Python 3"
    },
    "language_info": {
      "name": "python"
    }
  },
  "cells": [
    {
      "cell_type": "code",
      "execution_count": 19,
      "metadata": {
        "id": "OGzDWNN3PdPQ"
      },
      "outputs": [],
      "source": [
        "import pandas as pd\n",
        "import numpy as np\n",
        "\n",
        "df= pd.read_csv(\"/content/observations.csv\")"
      ]
    },
    {
      "cell_type": "code",
      "source": [
        "X= df.drop('label', axis=1)\n",
        "X.shape"
      ],
      "metadata": {
        "colab": {
          "base_uri": "https://localhost:8080/"
        },
        "id": "r7KgK7ZuQp1j",
        "outputId": "a82678bf-68f4-49c9-a7bb-5245688b0a57"
      },
      "execution_count": 20,
      "outputs": [
        {
          "output_type": "execute_result",
          "data": {
            "text/plain": [
              "(27, 9)"
            ]
          },
          "metadata": {},
          "execution_count": 20
        }
      ]
    },
    {
      "cell_type": "code",
      "source": [
        "y = df['label']\n",
        "y.shape"
      ],
      "metadata": {
        "colab": {
          "base_uri": "https://localhost:8080/"
        },
        "id": "G8E7OYPrRG-j",
        "outputId": "a701ab05-6a09-4e2d-e78e-a6b9af01781c"
      },
      "execution_count": 21,
      "outputs": [
        {
          "output_type": "execute_result",
          "data": {
            "text/plain": [
              "(27,)"
            ]
          },
          "metadata": {},
          "execution_count": 21
        }
      ]
    },
    {
      "cell_type": "code",
      "source": [
        "from sklearn.model_selection import train_test_split"
      ],
      "metadata": {
        "id": "0pXqECNpRhJi"
      },
      "execution_count": 22,
      "outputs": []
    },
    {
      "cell_type": "code",
      "source": [
        "import pandas as pd\n",
        "import numpy as np\n",
        "\n",
        "# Read the original data from the CSV file\n",
        "original_data = pd.read_csv('/content/observations.csv')\n",
        "\n",
        "# Separate the features and labels\n",
        "features = original_data.drop('label', axis=1)\n",
        "labels = original_data['label']\n",
        "\n",
        "# Generate additional data using various techniques\n",
        "# For example, you can use numpy's random functions to add noise or variation to the original data\n",
        "additional_data = features.apply(lambda x: x + np.random.normal(0, 0.1, len(x)))\n",
        "\n",
        "# Combine the additional data with the original data\n",
        "combined_data = pd.concat([features, additional_data], axis=0)\n",
        "\n",
        "# Add the labels back to the combined data\n",
        "combined_data['label'] = pd.concat([labels] * (len(additional_data) // len(labels)), axis=0)\n",
        "\n",
        "# Save the combined data to a new CSV file\n",
        "combined_data.to_csv('combined_data.csv', index=False)\n"
      ],
      "metadata": {
        "id": "jApQkItcTJ_P"
      },
      "execution_count": 23,
      "outputs": []
    },
    {
      "cell_type": "code",
      "source": [
        "import pandas as pd\n",
        "import numpy as np\n",
        "\n",
        "# Read the original data from the CSV file\n",
        "original_data = pd.read_csv('combined_data.csv')\n",
        "\n",
        "# Separate the features and labels\n",
        "features = original_data.drop('label', axis=1)\n",
        "labels = original_data['label']\n",
        "\n",
        "# Generate additional data using various techniques\n",
        "# For example, you can use numpy's random functions to add noise or variation to the original data\n",
        "additional_data = features.apply(lambda x: x + np.random.normal(0, 0.15, len(x)))\n",
        "\n",
        "# Combine the additional data with the original data\n",
        "combined_data = pd.concat([features, additional_data], axis=0)\n",
        "\n",
        "# Add the labels back to the combined data\n",
        "combined_data['label'] = pd.concat([labels] * (len(additional_data) // len(labels)), axis=0)\n",
        "\n",
        "# Save the combined data to a new CSV file\n",
        "combined_data.to_csv('combined_data.csv', index=False)"
      ],
      "metadata": {
        "id": "SxsvJw6FWrP8"
      },
      "execution_count": 24,
      "outputs": []
    },
    {
      "cell_type": "code",
      "source": [
        "import pandas as pd\n",
        "import numpy as np\n",
        "\n",
        "# Read the original data from the CSV file\n",
        "original_data = pd.read_csv('combined_data.csv')\n",
        "\n",
        "# Separate the features and labels\n",
        "features = original_data.drop('label', axis=1)\n",
        "labels = original_data['label']\n",
        "\n",
        "# Generate additional data using various techniques\n",
        "# For example, you can use numpy's random functions to add noise or variation to the original data\n",
        "additional_data = features.apply(lambda x: x + np.random.normal(0, 0.15, len(x)))\n",
        "\n",
        "# Combine the additional data with the original data\n",
        "combined_data = pd.concat([features, additional_data], axis=0)\n",
        "\n",
        "# Add the labels back to the combined data\n",
        "combined_data['label'] = pd.concat([labels] * (len(additional_data) // len(labels)), axis=0)\n",
        "\n",
        "# Save the combined data to a new CSV file\n",
        "combined_data.to_csv('combined_data.csv', index=False)"
      ],
      "metadata": {
        "id": "zWwjYRnKtVkW"
      },
      "execution_count": 25,
      "outputs": []
    },
    {
      "cell_type": "code",
      "source": [
        "df2 = pd.read_csv('combined_data.csv')\n",
        "\n",
        "y = df2['label']\n",
        "y.shape"
      ],
      "metadata": {
        "colab": {
          "base_uri": "https://localhost:8080/"
        },
        "id": "xR1WEuzMTSl6",
        "outputId": "9632bb32-3aec-45ba-cddd-63627d422db4"
      },
      "execution_count": 26,
      "outputs": [
        {
          "output_type": "execute_result",
          "data": {
            "text/plain": [
              "(216,)"
            ]
          },
          "metadata": {},
          "execution_count": 26
        }
      ]
    },
    {
      "cell_type": "code",
      "source": [
        "X= df2.drop('label', axis=1)\n",
        "X.shape"
      ],
      "metadata": {
        "colab": {
          "base_uri": "https://localhost:8080/"
        },
        "id": "5hvSfRYCThLD",
        "outputId": "c4711024-8605-41b3-849d-ed18786574cb"
      },
      "execution_count": 27,
      "outputs": [
        {
          "output_type": "execute_result",
          "data": {
            "text/plain": [
              "(216, 9)"
            ]
          },
          "metadata": {},
          "execution_count": 27
        }
      ]
    },
    {
      "cell_type": "code",
      "source": [
        "from sklearn.preprocessing import LabelEncoder\n",
        "\n",
        "# Sample labels array\n",
        "labels = y\n",
        "\n",
        "# Create an instance of LabelEncoder\n",
        "encoder = LabelEncoder()\n",
        "\n",
        "# Fit the encoder to the labels array and transform the labels\n",
        "encoded_labels = encoder.fit_transform(labels)\n",
        "\n",
        "# Print the encoded labels\n",
        "print(encoded_labels)\n",
        "\n",
        "# Decode the encoded labels\n",
        "decoded_labels = encoder.inverse_transform(encoded_labels)\n"
      ],
      "metadata": {
        "colab": {
          "base_uri": "https://localhost:8080/"
        },
        "id": "hRglkS8zeu_k",
        "outputId": "4fd5c7d1-6b3a-4b17-ab3e-519fbbac2ae3"
      },
      "execution_count": 28,
      "outputs": [
        {
          "output_type": "stream",
          "name": "stdout",
          "text": [
            "[5 5 5 7 7 7 0 0 0 1 1 1 4 4 4 2 2 2 3 3 3 6 6 6 8 8 8 5 5 5 7 7 7 0 0 0 1\n",
            " 1 1 4 4 4 2 2 2 3 3 3 6 6 6 8 8 8 5 5 5 7 7 7 0 0 0 1 1 1 4 4 4 2 2 2 3 3\n",
            " 3 6 6 6 8 8 8 5 5 5 7 7 7 0 0 0 1 1 1 4 4 4 2 2 2 3 3 3 6 6 6 8 8 8 5 5 5\n",
            " 7 7 7 0 0 0 1 1 1 4 4 4 2 2 2 3 3 3 6 6 6 8 8 8 5 5 5 7 7 7 0 0 0 1 1 1 4\n",
            " 4 4 2 2 2 3 3 3 6 6 6 8 8 8 5 5 5 7 7 7 0 0 0 1 1 1 4 4 4 2 2 2 3 3 3 6 6\n",
            " 6 8 8 8 5 5 5 7 7 7 0 0 0 1 1 1 4 4 4 2 2 2 3 3 3 6 6 6 8 8 8]\n"
          ]
        }
      ]
    },
    {
      "cell_type": "code",
      "source": [
        "from sklearn.model_selection import train_test_split\n",
        "\n",
        "# Assuming you have a dataset with features (X) and labels (y)\n",
        "x_train, x_test, y_train, y_test = train_test_split(X, encoded_labels, test_size=0.2, stratify=y)\n",
        "\n",
        "# The 'test_size' parameter determines the proportion of the dataset to include in the test set.\n",
        "# In this example, 20% of the data will be used for testing, while the remaining 80% will be used for training.\n",
        "\n",
        "# The 'stratify' parameter ensures that the labels are evenly distributed in both the training and testing sets.\n",
        "# This means that the proportion of each label in the original dataset will be maintained in the split sets.\n",
        "\n",
        "# You can then use the X_train, X_test, y_train, and y_test variables for further analysis or model training.\n"
      ],
      "metadata": {
        "id": "hQ8ma5mEUZe2"
      },
      "execution_count": 29,
      "outputs": []
    },
    {
      "cell_type": "code",
      "source": [
        "import tensorflow as tf\n",
        "from tensorflow import keras\n",
        "\n",
        "# Define the model architecture\n",
        "model = keras.Sequential([\n",
        "    keras.layers.Dense(10, activation='relu', input_shape=(9,)),\n",
        "    keras.layers.Dense(9, activation='relu'),\n",
        "    keras.layers.Dense(9, activation='sigmoid'),\n",
        "    keras.layers.Dense(9, activation='relu'),\n",
        "    keras.layers.Dense(9, activation='softmax')\n",
        "])\n",
        "\n",
        "# Compile the model\n",
        "model.compile(optimizer='adam',\n",
        "              loss='sparse_categorical_crossentropy',\n",
        "              metrics=['accuracy'])\n",
        "\n",
        "# Print the model summary\n",
        "model.summary()\n"
      ],
      "metadata": {
        "colab": {
          "base_uri": "https://localhost:8080/"
        },
        "id": "E69KypfMVdDX",
        "outputId": "321ebf24-4e64-4951-ddfd-1b8148b4d117"
      },
      "execution_count": 30,
      "outputs": [
        {
          "output_type": "stream",
          "name": "stdout",
          "text": [
            "Model: \"sequential_1\"\n",
            "_________________________________________________________________\n",
            " Layer (type)                Output Shape              Param #   \n",
            "=================================================================\n",
            " dense_5 (Dense)             (None, 10)                100       \n",
            "                                                                 \n",
            " dense_6 (Dense)             (None, 9)                 99        \n",
            "                                                                 \n",
            " dense_7 (Dense)             (None, 9)                 90        \n",
            "                                                                 \n",
            " dense_8 (Dense)             (None, 9)                 90        \n",
            "                                                                 \n",
            " dense_9 (Dense)             (None, 9)                 90        \n",
            "                                                                 \n",
            "=================================================================\n",
            "Total params: 469 (1.83 KB)\n",
            "Trainable params: 469 (1.83 KB)\n",
            "Non-trainable params: 0 (0.00 Byte)\n",
            "_________________________________________________________________\n"
          ]
        }
      ]
    },
    {
      "cell_type": "code",
      "source": [
        "# Train the model\n",
        "model.fit(x_train, y_train, epochs=100)"
      ],
      "metadata": {
        "colab": {
          "base_uri": "https://localhost:8080/"
        },
        "id": "sz3jz6yiXYXb",
        "outputId": "c203b00b-6275-4a1e-a86d-e0ac5191d412"
      },
      "execution_count": 42,
      "outputs": [
        {
          "output_type": "stream",
          "name": "stdout",
          "text": [
            "Epoch 1/100\n",
            "6/6 [==============================] - 0s 4ms/step - loss: 1.3807 - accuracy: 0.5349\n",
            "Epoch 2/100\n",
            "6/6 [==============================] - 0s 3ms/step - loss: 1.3657 - accuracy: 0.4826\n",
            "Epoch 3/100\n",
            "6/6 [==============================] - 0s 4ms/step - loss: 1.3500 - accuracy: 0.4709\n",
            "Epoch 4/100\n",
            "6/6 [==============================] - 0s 4ms/step - loss: 1.3365 - accuracy: 0.4767\n",
            "Epoch 5/100\n",
            "6/6 [==============================] - 0s 4ms/step - loss: 1.3231 - accuracy: 0.5000\n",
            "Epoch 6/100\n",
            "6/6 [==============================] - 0s 4ms/step - loss: 1.3090 - accuracy: 0.4826\n",
            "Epoch 7/100\n",
            "6/6 [==============================] - 0s 3ms/step - loss: 1.2951 - accuracy: 0.4884\n",
            "Epoch 8/100\n",
            "6/6 [==============================] - 0s 3ms/step - loss: 1.2816 - accuracy: 0.4884\n",
            "Epoch 9/100\n",
            "6/6 [==============================] - 0s 3ms/step - loss: 1.2685 - accuracy: 0.4884\n",
            "Epoch 10/100\n",
            "6/6 [==============================] - 0s 3ms/step - loss: 1.2551 - accuracy: 0.5349\n",
            "Epoch 11/100\n",
            "6/6 [==============================] - 0s 3ms/step - loss: 1.2405 - accuracy: 0.5349\n",
            "Epoch 12/100\n",
            "6/6 [==============================] - 0s 4ms/step - loss: 1.2248 - accuracy: 0.5349\n",
            "Epoch 13/100\n",
            "6/6 [==============================] - 0s 3ms/step - loss: 1.2065 - accuracy: 0.5465\n",
            "Epoch 14/100\n",
            "6/6 [==============================] - 0s 3ms/step - loss: 1.1926 - accuracy: 0.5640\n",
            "Epoch 15/100\n",
            "6/6 [==============================] - 0s 3ms/step - loss: 1.1794 - accuracy: 0.5698\n",
            "Epoch 16/100\n",
            "6/6 [==============================] - 0s 3ms/step - loss: 1.1663 - accuracy: 0.5349\n",
            "Epoch 17/100\n",
            "6/6 [==============================] - 0s 3ms/step - loss: 1.1538 - accuracy: 0.5233\n",
            "Epoch 18/100\n",
            "6/6 [==============================] - 0s 3ms/step - loss: 1.1416 - accuracy: 0.5233\n",
            "Epoch 19/100\n",
            "6/6 [==============================] - 0s 3ms/step - loss: 1.1315 - accuracy: 0.5174\n",
            "Epoch 20/100\n",
            "6/6 [==============================] - 0s 3ms/step - loss: 1.1197 - accuracy: 0.5174\n",
            "Epoch 21/100\n",
            "6/6 [==============================] - 0s 4ms/step - loss: 1.1088 - accuracy: 0.5407\n",
            "Epoch 22/100\n",
            "6/6 [==============================] - 0s 6ms/step - loss: 1.0983 - accuracy: 0.5465\n",
            "Epoch 23/100\n",
            "6/6 [==============================] - 0s 4ms/step - loss: 1.0877 - accuracy: 0.5407\n",
            "Epoch 24/100\n",
            "6/6 [==============================] - 0s 3ms/step - loss: 1.0774 - accuracy: 0.5465\n",
            "Epoch 25/100\n",
            "6/6 [==============================] - 0s 4ms/step - loss: 1.0678 - accuracy: 0.5640\n",
            "Epoch 26/100\n",
            "6/6 [==============================] - 0s 4ms/step - loss: 1.0576 - accuracy: 0.5698\n",
            "Epoch 27/100\n",
            "6/6 [==============================] - 0s 3ms/step - loss: 1.0482 - accuracy: 0.5698\n",
            "Epoch 28/100\n",
            "6/6 [==============================] - 0s 3ms/step - loss: 1.0387 - accuracy: 0.5640\n",
            "Epoch 29/100\n",
            "6/6 [==============================] - 0s 3ms/step - loss: 1.0285 - accuracy: 0.5930\n",
            "Epoch 30/100\n",
            "6/6 [==============================] - 0s 3ms/step - loss: 1.0200 - accuracy: 0.5988\n",
            "Epoch 31/100\n",
            "6/6 [==============================] - 0s 3ms/step - loss: 1.0104 - accuracy: 0.5930\n",
            "Epoch 32/100\n",
            "6/6 [==============================] - 0s 4ms/step - loss: 1.0012 - accuracy: 0.6047\n",
            "Epoch 33/100\n",
            "6/6 [==============================] - 0s 3ms/step - loss: 0.9935 - accuracy: 0.5930\n",
            "Epoch 34/100\n",
            "6/6 [==============================] - 0s 3ms/step - loss: 0.9840 - accuracy: 0.5930\n",
            "Epoch 35/100\n",
            "6/6 [==============================] - 0s 4ms/step - loss: 0.9764 - accuracy: 0.6163\n",
            "Epoch 36/100\n",
            "6/6 [==============================] - 0s 4ms/step - loss: 0.9676 - accuracy: 0.6163\n",
            "Epoch 37/100\n",
            "6/6 [==============================] - 0s 3ms/step - loss: 0.9597 - accuracy: 0.6163\n",
            "Epoch 38/100\n",
            "6/6 [==============================] - 0s 3ms/step - loss: 0.9516 - accuracy: 0.6163\n",
            "Epoch 39/100\n",
            "6/6 [==============================] - 0s 3ms/step - loss: 0.9448 - accuracy: 0.6279\n",
            "Epoch 40/100\n",
            "6/6 [==============================] - 0s 3ms/step - loss: 0.9364 - accuracy: 0.6337\n",
            "Epoch 41/100\n",
            "6/6 [==============================] - 0s 4ms/step - loss: 0.9291 - accuracy: 0.6337\n",
            "Epoch 42/100\n",
            "6/6 [==============================] - 0s 4ms/step - loss: 0.9217 - accuracy: 0.6512\n",
            "Epoch 43/100\n",
            "6/6 [==============================] - 0s 3ms/step - loss: 0.9145 - accuracy: 0.6512\n",
            "Epoch 44/100\n",
            "6/6 [==============================] - 0s 3ms/step - loss: 0.9079 - accuracy: 0.6802\n",
            "Epoch 45/100\n",
            "6/6 [==============================] - 0s 3ms/step - loss: 0.9014 - accuracy: 0.6919\n",
            "Epoch 46/100\n",
            "6/6 [==============================] - 0s 3ms/step - loss: 0.8937 - accuracy: 0.6686\n",
            "Epoch 47/100\n",
            "6/6 [==============================] - 0s 3ms/step - loss: 0.8871 - accuracy: 0.6686\n",
            "Epoch 48/100\n",
            "6/6 [==============================] - 0s 3ms/step - loss: 0.8789 - accuracy: 0.7093\n",
            "Epoch 49/100\n",
            "6/6 [==============================] - 0s 3ms/step - loss: 0.8736 - accuracy: 0.7442\n",
            "Epoch 50/100\n",
            "6/6 [==============================] - 0s 4ms/step - loss: 0.8656 - accuracy: 0.7616\n",
            "Epoch 51/100\n",
            "6/6 [==============================] - 0s 3ms/step - loss: 0.8587 - accuracy: 0.7674\n",
            "Epoch 52/100\n",
            "6/6 [==============================] - 0s 4ms/step - loss: 0.8527 - accuracy: 0.7733\n",
            "Epoch 53/100\n",
            "6/6 [==============================] - 0s 4ms/step - loss: 0.8460 - accuracy: 0.7616\n",
            "Epoch 54/100\n",
            "6/6 [==============================] - 0s 3ms/step - loss: 0.8415 - accuracy: 0.7849\n",
            "Epoch 55/100\n",
            "6/6 [==============================] - 0s 4ms/step - loss: 0.8346 - accuracy: 0.7733\n",
            "Epoch 56/100\n",
            "6/6 [==============================] - 0s 3ms/step - loss: 0.8284 - accuracy: 0.7849\n",
            "Epoch 57/100\n",
            "6/6 [==============================] - 0s 3ms/step - loss: 0.8225 - accuracy: 0.7907\n",
            "Epoch 58/100\n",
            "6/6 [==============================] - 0s 3ms/step - loss: 0.8168 - accuracy: 0.7907\n",
            "Epoch 59/100\n",
            "6/6 [==============================] - 0s 3ms/step - loss: 0.8112 - accuracy: 0.7791\n",
            "Epoch 60/100\n",
            "6/6 [==============================] - 0s 5ms/step - loss: 0.8061 - accuracy: 0.7791\n",
            "Epoch 61/100\n",
            "6/6 [==============================] - 0s 4ms/step - loss: 0.8007 - accuracy: 0.7907\n",
            "Epoch 62/100\n",
            "6/6 [==============================] - 0s 3ms/step - loss: 0.7949 - accuracy: 0.7907\n",
            "Epoch 63/100\n",
            "6/6 [==============================] - 0s 3ms/step - loss: 0.7884 - accuracy: 0.8140\n",
            "Epoch 64/100\n",
            "6/6 [==============================] - 0s 3ms/step - loss: 0.7835 - accuracy: 0.8081\n",
            "Epoch 65/100\n",
            "6/6 [==============================] - 0s 3ms/step - loss: 0.7760 - accuracy: 0.8023\n",
            "Epoch 66/100\n",
            "6/6 [==============================] - 0s 4ms/step - loss: 0.7704 - accuracy: 0.8198\n",
            "Epoch 67/100\n",
            "6/6 [==============================] - 0s 3ms/step - loss: 0.7657 - accuracy: 0.8314\n",
            "Epoch 68/100\n",
            "6/6 [==============================] - 0s 3ms/step - loss: 0.7614 - accuracy: 0.8314\n",
            "Epoch 69/100\n",
            "6/6 [==============================] - 0s 3ms/step - loss: 0.7568 - accuracy: 0.8256\n",
            "Epoch 70/100\n",
            "6/6 [==============================] - 0s 3ms/step - loss: 0.7516 - accuracy: 0.8314\n",
            "Epoch 71/100\n",
            "6/6 [==============================] - 0s 3ms/step - loss: 0.7464 - accuracy: 0.8198\n",
            "Epoch 72/100\n",
            "6/6 [==============================] - 0s 3ms/step - loss: 0.7424 - accuracy: 0.7907\n",
            "Epoch 73/100\n",
            "6/6 [==============================] - 0s 3ms/step - loss: 0.7370 - accuracy: 0.8198\n",
            "Epoch 74/100\n",
            "6/6 [==============================] - 0s 3ms/step - loss: 0.7323 - accuracy: 0.8256\n",
            "Epoch 75/100\n",
            "6/6 [==============================] - 0s 3ms/step - loss: 0.7280 - accuracy: 0.8198\n",
            "Epoch 76/100\n",
            "6/6 [==============================] - 0s 3ms/step - loss: 0.7239 - accuracy: 0.8314\n",
            "Epoch 77/100\n",
            "6/6 [==============================] - 0s 3ms/step - loss: 0.7195 - accuracy: 0.8140\n",
            "Epoch 78/100\n",
            "6/6 [==============================] - 0s 4ms/step - loss: 0.7152 - accuracy: 0.8023\n",
            "Epoch 79/100\n",
            "6/6 [==============================] - 0s 3ms/step - loss: 0.7108 - accuracy: 0.8198\n",
            "Epoch 80/100\n",
            "6/6 [==============================] - 0s 3ms/step - loss: 0.7069 - accuracy: 0.8430\n",
            "Epoch 81/100\n",
            "6/6 [==============================] - 0s 3ms/step - loss: 0.7024 - accuracy: 0.8372\n",
            "Epoch 82/100\n",
            "6/6 [==============================] - 0s 4ms/step - loss: 0.6980 - accuracy: 0.8372\n",
            "Epoch 83/100\n",
            "6/6 [==============================] - 0s 3ms/step - loss: 0.6933 - accuracy: 0.8372\n",
            "Epoch 84/100\n",
            "6/6 [==============================] - 0s 3ms/step - loss: 0.6886 - accuracy: 0.8372\n",
            "Epoch 85/100\n",
            "6/6 [==============================] - 0s 3ms/step - loss: 0.6850 - accuracy: 0.8430\n",
            "Epoch 86/100\n",
            "6/6 [==============================] - 0s 4ms/step - loss: 0.6811 - accuracy: 0.8256\n",
            "Epoch 87/100\n",
            "6/6 [==============================] - 0s 3ms/step - loss: 0.6766 - accuracy: 0.8314\n",
            "Epoch 88/100\n",
            "6/6 [==============================] - 0s 3ms/step - loss: 0.6725 - accuracy: 0.8314\n",
            "Epoch 89/100\n",
            "6/6 [==============================] - 0s 4ms/step - loss: 0.6688 - accuracy: 0.8314\n",
            "Epoch 90/100\n",
            "6/6 [==============================] - 0s 3ms/step - loss: 0.6641 - accuracy: 0.8140\n",
            "Epoch 91/100\n",
            "6/6 [==============================] - 0s 3ms/step - loss: 0.6596 - accuracy: 0.8081\n",
            "Epoch 92/100\n",
            "6/6 [==============================] - 0s 3ms/step - loss: 0.6554 - accuracy: 0.8081\n",
            "Epoch 93/100\n",
            "6/6 [==============================] - 0s 3ms/step - loss: 0.6517 - accuracy: 0.7965\n",
            "Epoch 94/100\n",
            "6/6 [==============================] - 0s 5ms/step - loss: 0.6470 - accuracy: 0.8081\n",
            "Epoch 95/100\n",
            "6/6 [==============================] - 0s 3ms/step - loss: 0.6425 - accuracy: 0.8314\n",
            "Epoch 96/100\n",
            "6/6 [==============================] - 0s 3ms/step - loss: 0.6386 - accuracy: 0.8372\n",
            "Epoch 97/100\n",
            "6/6 [==============================] - 0s 5ms/step - loss: 0.6346 - accuracy: 0.8488\n",
            "Epoch 98/100\n",
            "6/6 [==============================] - 0s 4ms/step - loss: 0.6300 - accuracy: 0.8488\n",
            "Epoch 99/100\n",
            "6/6 [==============================] - 0s 3ms/step - loss: 0.6266 - accuracy: 0.8430\n",
            "Epoch 100/100\n",
            "6/6 [==============================] - 0s 3ms/step - loss: 0.6217 - accuracy: 0.8547\n"
          ]
        },
        {
          "output_type": "execute_result",
          "data": {
            "text/plain": [
              "<keras.src.callbacks.History at 0x7a4fdffd1cf0>"
            ]
          },
          "metadata": {},
          "execution_count": 42
        }
      ]
    },
    {
      "cell_type": "code",
      "source": [
        "# Make predictions\n",
        "predictions = model.predict(x_test)"
      ],
      "metadata": {
        "colab": {
          "base_uri": "https://localhost:8080/"
        },
        "id": "GrteIBBZXcde",
        "outputId": "1986c751-b0d5-4341-8889-c009f5f3bb47"
      },
      "execution_count": 43,
      "outputs": [
        {
          "output_type": "stream",
          "name": "stdout",
          "text": [
            "2/2 [==============================] - 0s 7ms/step\n"
          ]
        }
      ]
    },
    {
      "cell_type": "code",
      "source": [
        "print(predictions)"
      ],
      "metadata": {
        "colab": {
          "base_uri": "https://localhost:8080/"
        },
        "id": "ZyyRC34YgaIE",
        "outputId": "c090470f-198a-44cc-915a-799a6743a481"
      },
      "execution_count": 44,
      "outputs": [
        {
          "output_type": "stream",
          "name": "stdout",
          "text": [
            "[[1.94063806e-03 2.82155792e-03 2.37928340e-04 1.02202095e-04\n",
            "  2.03797191e-01 2.33270554e-03 1.28873449e-03 6.74907677e-03\n",
            "  7.80729890e-01]\n",
            " [4.18854365e-03 7.58131617e-04 5.70608908e-03 5.99679945e-04\n",
            "  4.39293757e-02 4.61287647e-01 2.45545637e-02 4.56133991e-01\n",
            "  2.84194574e-03]\n",
            " [4.21990480e-05 3.30304712e-01 4.69123214e-01 1.76646307e-01\n",
            "  7.28638563e-03 1.35550275e-03 1.29739484e-02 2.25842046e-03\n",
            "  9.29377347e-06]\n",
            " [6.42667353e-01 8.14403174e-04 7.68854457e-04 2.83165257e-02\n",
            "  5.18917199e-03 2.79324653e-04 3.11904281e-01 9.84506402e-03\n",
            "  2.15036256e-04]\n",
            " [1.62110582e-03 3.15751822e-04 2.91576772e-03 1.62125027e-04\n",
            "  3.23348083e-02 5.60597003e-01 1.00954138e-02 3.89304876e-01\n",
            "  2.65323813e-03]\n",
            " [1.16975527e-04 4.17152762e-01 2.57517368e-01 2.97978163e-01\n",
            "  7.63683533e-03 4.80216753e-04 1.74121447e-02 1.69218809e-03\n",
            "  1.33687536e-05]\n",
            " [4.97793335e-05 4.17909950e-01 3.28672141e-01 2.32820302e-01\n",
            "  6.43488159e-03 6.08006318e-04 1.19340187e-02 1.56212167e-03\n",
            "  8.83455141e-06]\n",
            " [5.29716344e-05 4.09559190e-01 3.36701751e-01 2.32188165e-01\n",
            "  6.65933685e-03 6.55547483e-04 1.25232274e-02 1.65052025e-03\n",
            "  9.25891072e-06]\n",
            " [2.34189689e-01 5.69968764e-03 1.05627803e-02 9.10803974e-02\n",
            "  1.96454413e-02 8.59115738e-04 6.23936772e-01 1.38108358e-02\n",
            "  2.15308261e-04]\n",
            " [1.98314362e-03 3.31240869e-03 2.94481957e-04 1.21672412e-04\n",
            "  2.25120679e-01 2.82755378e-03 1.45964301e-03 8.03256314e-03\n",
            "  7.56847858e-01]\n",
            " [8.20602756e-03 1.43250776e-02 1.35960355e-02 2.72572180e-03\n",
            "  5.31178892e-01 1.02131359e-01 4.24851738e-02 2.05358073e-01\n",
            "  7.99936652e-02]\n",
            " [2.29035333e-01 3.49677866e-03 1.03056747e-02 2.57101990e-02\n",
            "  6.13871478e-02 1.14416890e-02 5.59784532e-01 9.76159275e-02\n",
            "  1.22267066e-03]\n",
            " [8.40851944e-03 6.38915924e-03 1.09653939e-02 1.50197232e-03\n",
            "  3.55719000e-01 2.15509802e-01 3.77413556e-02 3.04054439e-01\n",
            "  5.97102828e-02]\n",
            " [1.80819770e-04 2.13153988e-01 5.36414146e-01 1.91215336e-01\n",
            "  1.27130663e-02 3.76125774e-03 3.63224596e-02 6.22027880e-03\n",
            "  1.85303034e-05]\n",
            " [4.41781711e-03 7.97412079e-03 1.55153126e-03 4.82271949e-04\n",
            "  4.75655943e-01 7.35255657e-03 6.98903902e-03 1.98461395e-02\n",
            "  4.75730568e-01]\n",
            " [2.08648713e-03 4.58706636e-03 3.79876496e-04 1.72597443e-04\n",
            "  2.23274812e-01 2.97298213e-03 1.60851283e-03 8.40653572e-03\n",
            "  7.56511033e-01]\n",
            " [8.32336605e-01 1.39212381e-04 1.11127476e-04 4.70962003e-03\n",
            "  3.70782241e-03 3.77899181e-04 1.41707614e-01 1.66190825e-02\n",
            "  2.90922646e-04]\n",
            " [8.40653121e-01 1.22753801e-04 9.66558291e-05 4.12870804e-03\n",
            "  3.62382666e-03 3.95785610e-04 1.33013949e-01 1.76681243e-02\n",
            "  2.96991813e-04]\n",
            " [7.18961656e-03 2.33039692e-01 5.24514243e-02 6.12219632e-01\n",
            "  1.23778870e-02 1.34867805e-04 8.06131661e-02 1.87532953e-03\n",
            "  9.83955979e-05]\n",
            " [4.66358243e-03 2.75405473e-04 2.72181188e-03 3.02029832e-04\n",
            "  2.87025478e-02 4.38437611e-01 2.24237815e-02 5.00919700e-01\n",
            "  1.55357586e-03]\n",
            " [2.02933839e-03 4.69431543e-04 3.47020803e-03 2.28186938e-04\n",
            "  3.90549228e-02 5.42491078e-01 1.13717243e-02 3.96981508e-01\n",
            "  3.90355778e-03]\n",
            " [7.25900391e-05 4.55915213e-01 2.34432921e-01 2.89031029e-01\n",
            "  6.12378027e-03 3.42392916e-04 1.27836531e-02 1.28907803e-03\n",
            "  9.30852548e-06]\n",
            " [7.28642481e-05 4.56223428e-01 2.33534142e-01 2.89624840e-01\n",
            "  6.11904962e-03 3.40225466e-04 1.27898809e-02 1.28613238e-03\n",
            "  9.31143495e-06]\n",
            " [5.20429385e-05 4.23095226e-01 3.17140281e-01 2.39134490e-01\n",
            "  6.41339831e-03 5.71104989e-04 1.20525332e-02 1.53193867e-03\n",
            "  8.90555202e-06]\n",
            " [1.73860532e-03 4.14175825e-04 3.33249522e-03 1.98225374e-04\n",
            "  3.64407599e-02 5.55895746e-01 1.04677528e-02 3.88125330e-01\n",
            "  3.38691822e-03]\n",
            " [7.46219279e-03 1.09777169e-03 9.74870194e-03 1.33795990e-03\n",
            "  5.08436635e-02 3.93426478e-01 5.20162992e-02 4.82163101e-01\n",
            "  1.90369121e-03]\n",
            " [2.10616225e-03 3.92454938e-04 3.27388756e-03 2.28393823e-04\n",
            "  3.32014225e-02 5.33580959e-01 1.21487603e-02 4.12323952e-01\n",
            "  2.74397153e-03]\n",
            " [4.10665385e-03 7.19937403e-03 1.96229946e-03 4.50569787e-04\n",
            "  5.03583312e-01 1.48169436e-02 7.81939458e-03 3.31693515e-02\n",
            "  4.26891983e-01]\n",
            " [2.02169525e-03 2.16864492e-03 2.11522289e-04 7.84806689e-05\n",
            "  2.20859513e-01 2.42029410e-03 1.36930891e-03 6.96814759e-03\n",
            "  7.63902366e-01]\n",
            " [8.43429208e-01 1.19101249e-04 9.25178829e-05 4.05893615e-03\n",
            "  3.50441015e-03 3.92349379e-04 1.30367815e-01 1.77427903e-02\n",
            "  2.92881916e-04]\n",
            " [4.25819489e-05 3.85321349e-01 3.89242083e-01 2.04340130e-01\n",
            "  6.65330002e-03 8.47104180e-04 1.17765190e-02 1.76815025e-03\n",
            "  8.76415015e-06]\n",
            " [8.48249942e-02 1.44499522e-02 4.07001749e-02 1.41668677e-01\n",
            "  3.02872807e-02 1.75942341e-03 6.69440269e-01 1.67146977e-02\n",
            "  1.54451045e-04]\n",
            " [6.68063853e-03 9.05853929e-04 7.27515668e-03 9.03697219e-04\n",
            "  5.39664216e-02 4.06572074e-01 4.08393256e-02 4.80253339e-01\n",
            "  2.60356511e-03]\n",
            " [8.70422423e-01 7.93688014e-05 5.54683647e-05 2.92270165e-03\n",
            "  2.70544924e-03 3.96887190e-04 1.03149712e-01 1.99943520e-02\n",
            "  2.73727986e-04]\n",
            " [1.35444512e-03 2.97295630e-01 2.39794716e-01 3.54918629e-01\n",
            "  2.44410597e-02 1.28032209e-03 7.51506910e-02 5.68362558e-03\n",
            "  8.07715842e-05]\n",
            " [1.24043524e-02 2.97330301e-02 4.43855524e-02 1.01512736e-02\n",
            "  5.36009371e-01 7.03305230e-02 1.15821101e-01 1.52206302e-01\n",
            "  2.89585330e-02]\n",
            " [4.94123851e-05 4.17031586e-01 3.30598146e-01 2.31778637e-01\n",
            "  6.43807882e-03 6.14298799e-04 1.19139124e-02 1.56708423e-03\n",
            "  8.82239237e-06]\n",
            " [2.26299569e-01 5.90570178e-03 1.11520700e-02 9.19092298e-02\n",
            "  2.03918107e-02 8.84222507e-04 6.29310131e-01 1.39328381e-02\n",
            "  2.14419502e-04]\n",
            " [4.95037384e-05 4.17251527e-01 3.30116838e-01 2.32038483e-01\n",
            "  6.43728580e-03 6.12722768e-04 1.19189331e-02 1.56584557e-03\n",
            "  8.82542918e-06]\n",
            " [2.22162553e-03 2.87622260e-03 3.02135712e-04 1.10621193e-04\n",
            "  2.48518646e-01 2.99227354e-03 1.71780924e-03 8.39156657e-03\n",
            "  7.32869089e-01]\n",
            " [4.80076305e-05 4.02179450e-01 3.55479151e-01 2.21147001e-01\n",
            "  6.62390329e-03 7.14930706e-04 1.21203531e-02 1.67823548e-03\n",
            "  8.98641611e-06]\n",
            " [7.30263768e-04 2.92828828e-01 2.87210166e-01 3.39001030e-01\n",
            "  1.72862820e-02 1.31016376e-03 5.68194240e-02 4.76946915e-03\n",
            "  4.43811878e-05]\n",
            " [5.43241650e-02 2.47714501e-02 6.39663637e-02 1.81919828e-01\n",
            "  3.63160297e-02 1.92950980e-03 6.20205343e-01 1.64130051e-02\n",
            "  1.54290712e-04]\n",
            " [2.56830431e-03 4.51216154e-04 3.49822734e-03 2.69249664e-04\n",
            "  3.73226292e-02 5.13802230e-01 1.40812285e-02 4.24810112e-01\n",
            "  3.19677568e-03]]\n"
          ]
        }
      ]
    },
    {
      "cell_type": "code",
      "source": [
        "from sklearn.preprocessing import LabelEncoder\n",
        "\n",
        "# Sample labels array\n",
        "labels = y\n",
        "\n",
        "# Create an instance of LabelEncoder\n",
        "encoder = LabelEncoder()\n",
        "\n",
        "# Fit the encoder to the labels array and transform the labels\n",
        "encoded_labels = encoder.fit_transform(labels)\n",
        "\n",
        "# Print the encoded labels\n",
        "print(encoded_labels)\n",
        "\n",
        "# Decode the encoded labels\n",
        "decoded_labels = encoder.inverse_transform(encoded_labels)"
      ],
      "metadata": {
        "colab": {
          "base_uri": "https://localhost:8080/"
        },
        "id": "qlwtuog6r6Nw",
        "outputId": "43bdd965-c56a-439c-d6d5-5a8a449c8498"
      },
      "execution_count": 45,
      "outputs": [
        {
          "output_type": "stream",
          "name": "stdout",
          "text": [
            "[5 5 5 7 7 7 0 0 0 1 1 1 4 4 4 2 2 2 3 3 3 6 6 6 8 8 8 5 5 5 7 7 7 0 0 0 1\n",
            " 1 1 4 4 4 2 2 2 3 3 3 6 6 6 8 8 8 5 5 5 7 7 7 0 0 0 1 1 1 4 4 4 2 2 2 3 3\n",
            " 3 6 6 6 8 8 8 5 5 5 7 7 7 0 0 0 1 1 1 4 4 4 2 2 2 3 3 3 6 6 6 8 8 8 5 5 5\n",
            " 7 7 7 0 0 0 1 1 1 4 4 4 2 2 2 3 3 3 6 6 6 8 8 8 5 5 5 7 7 7 0 0 0 1 1 1 4\n",
            " 4 4 2 2 2 3 3 3 6 6 6 8 8 8 5 5 5 7 7 7 0 0 0 1 1 1 4 4 4 2 2 2 3 3 3 6 6\n",
            " 6 8 8 8 5 5 5 7 7 7 0 0 0 1 1 1 4 4 4 2 2 2 3 3 3 6 6 6 8 8 8]\n"
          ]
        }
      ]
    },
    {
      "cell_type": "code",
      "source": [
        "pred = np.argmax(predictions, axis=1)\n",
        "pred"
      ],
      "metadata": {
        "colab": {
          "base_uri": "https://localhost:8080/"
        },
        "id": "rQ1i6pQ-mob9",
        "outputId": "d4ac0b67-f2eb-44f2-ce0a-d11fec1fe249"
      },
      "execution_count": 46,
      "outputs": [
        {
          "output_type": "execute_result",
          "data": {
            "text/plain": [
              "array([8, 5, 2, 0, 5, 1, 1, 1, 6, 8, 4, 6, 4, 2, 8, 8, 0, 0, 3, 7, 5, 1,\n",
              "       1, 1, 5, 7, 5, 4, 8, 0, 2, 6, 7, 0, 3, 4, 1, 6, 1, 8, 1, 3, 6, 5])"
            ]
          },
          "metadata": {},
          "execution_count": 46
        }
      ]
    },
    {
      "cell_type": "code",
      "source": [
        "\n",
        "y_test"
      ],
      "metadata": {
        "colab": {
          "base_uri": "https://localhost:8080/"
        },
        "id": "UNLcvj7lmwGc",
        "outputId": "c0924293-757b-4441-e6ef-7a8bdf56a5ee"
      },
      "execution_count": 47,
      "outputs": [
        {
          "output_type": "execute_result",
          "data": {
            "text/plain": [
              "array([8, 7, 2, 0, 5, 1, 2, 1, 6, 8, 4, 6, 4, 2, 4, 8, 0, 0, 3, 7, 5, 3,\n",
              "       3, 1, 5, 7, 5, 4, 8, 0, 1, 6, 7, 0, 3, 4, 2, 6, 2, 8, 1, 3, 6, 5])"
            ]
          },
          "metadata": {},
          "execution_count": 47
        }
      ]
    },
    {
      "cell_type": "code",
      "source": [
        "from sklearn.metrics import confusion_matrix\n",
        "import matplotlib.pyplot as plt\n",
        "mat = confusion_matrix(y_test, pred)\n",
        "import seaborn as sns\n",
        "sns.heatmap(mat, square=True, annot=True, cbar=False)\n",
        "plt.xlabel('predicted value')\n",
        "plt.ylabel('true value');\n",
        "\n",
        "from sklearn.metrics import accuracy_score\n",
        "print(accuracy_score(y_test, pred))\n"
      ],
      "metadata": {
        "colab": {
          "base_uri": "https://localhost:8080/",
          "height": 466
        },
        "id": "IJPUhHgNm1cv",
        "outputId": "74822d3a-4d4d-41d2-f8e3-ef17fecc0a80"
      },
      "execution_count": 48,
      "outputs": [
        {
          "output_type": "stream",
          "name": "stdout",
          "text": [
            "0.8181818181818182\n"
          ]
        },
        {
          "output_type": "display_data",
          "data": {
            "text/plain": [
              "<Figure size 640x480 with 1 Axes>"
            ],
            "image/png": "[encoded data removed]"
          },
          "metadata": {}
        }
      ]
    }
  ]
}